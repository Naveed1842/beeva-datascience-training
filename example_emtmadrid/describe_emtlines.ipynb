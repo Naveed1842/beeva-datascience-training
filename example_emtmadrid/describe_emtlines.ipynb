{
 "cells": [
  {
   "cell_type": "code",
   "execution_count": 1,
   "metadata": {
    "collapsed": false
   },
   "outputs": [],
   "source": [
    "FILENAME = 'data/EMTRouteLines.json'\n",
    "import json,pandas\n",
    "df = pandas.DataFrame(json.load(open(FILENAME))['resultValues'])"
   ]
  },
  {
   "cell_type": "code",
   "execution_count": 2,
   "metadata": {
    "collapsed": false
   },
   "outputs": [
    {
     "data": {
      "text/html": [
       "<div>\n",
       "<table border=\"1\" class=\"dataframe\">\n",
       "  <thead>\n",
       "    <tr style=\"text-align: right;\">\n",
       "      <th></th>\n",
       "      <th>distance</th>\n",
       "      <th>distancePreviousStop</th>\n",
       "      <th>latitude</th>\n",
       "      <th>line</th>\n",
       "      <th>longitude</th>\n",
       "      <th>name</th>\n",
       "      <th>node</th>\n",
       "      <th>orderDetail</th>\n",
       "      <th>secDetail</th>\n",
       "    </tr>\n",
       "  </thead>\n",
       "  <tbody>\n",
       "    <tr>\n",
       "      <th>0</th>\n",
       "      <td>0</td>\n",
       "      <td>0</td>\n",
       "      <td>40.438157</td>\n",
       "      <td>4</td>\n",
       "      <td>-3.638731</td>\n",
       "      <td>INTERCAMBIADOR CIUDAD LINEAL</td>\n",
       "      <td>1199</td>\n",
       "      <td>1</td>\n",
       "      <td>10</td>\n",
       "    </tr>\n",
       "    <tr>\n",
       "      <th>1</th>\n",
       "      <td>458</td>\n",
       "      <td>458</td>\n",
       "      <td>40.434865</td>\n",
       "      <td>4</td>\n",
       "      <td>-3.636101</td>\n",
       "      <td>HNOS.GARCIA NOBLEJAS-VITAL AZA</td>\n",
       "      <td>240</td>\n",
       "      <td>1</td>\n",
       "      <td>10</td>\n",
       "    </tr>\n",
       "    <tr>\n",
       "      <th>2</th>\n",
       "      <td>752</td>\n",
       "      <td>294</td>\n",
       "      <td>40.432523</td>\n",
       "      <td>4</td>\n",
       "      <td>-3.634476</td>\n",
       "      <td>HNOS.GARCIA NOBLEJAS-ASCAO</td>\n",
       "      <td>242</td>\n",
       "      <td>1</td>\n",
       "      <td>10</td>\n",
       "    </tr>\n",
       "    <tr>\n",
       "      <th>3</th>\n",
       "      <td>1153</td>\n",
       "      <td>401</td>\n",
       "      <td>40.429391</td>\n",
       "      <td>4</td>\n",
       "      <td>-3.632136</td>\n",
       "      <td>HNOS.GARCIA NOBLEJAS-LUIS CAMPOS</td>\n",
       "      <td>244</td>\n",
       "      <td>1</td>\n",
       "      <td>10</td>\n",
       "    </tr>\n",
       "    <tr>\n",
       "      <th>4</th>\n",
       "      <td>1371</td>\n",
       "      <td>218</td>\n",
       "      <td>40.427677</td>\n",
       "      <td>4</td>\n",
       "      <td>-3.630893</td>\n",
       "      <td>HNOS.GARCIA NOBLEJAS-CASTILLO DE AREVALO</td>\n",
       "      <td>246</td>\n",
       "      <td>1</td>\n",
       "      <td>10</td>\n",
       "    </tr>\n",
       "  </tbody>\n",
       "</table>\n",
       "</div>"
      ],
      "text/plain": [
       "   distance  distancePreviousStop   latitude  line  longitude  \\\n",
       "0         0                     0  40.438157     4  -3.638731   \n",
       "1       458                   458  40.434865     4  -3.636101   \n",
       "2       752                   294  40.432523     4  -3.634476   \n",
       "3      1153                   401  40.429391     4  -3.632136   \n",
       "4      1371                   218  40.427677     4  -3.630893   \n",
       "\n",
       "                                       name  node orderDetail  secDetail  \n",
       "0              INTERCAMBIADOR CIUDAD LINEAL  1199           1         10  \n",
       "1            HNOS.GARCIA NOBLEJAS-VITAL AZA   240           1         10  \n",
       "2                HNOS.GARCIA NOBLEJAS-ASCAO   242           1         10  \n",
       "3          HNOS.GARCIA NOBLEJAS-LUIS CAMPOS   244           1         10  \n",
       "4  HNOS.GARCIA NOBLEJAS-CASTILLO DE AREVALO   246           1         10  "
      ]
     },
     "execution_count": 2,
     "metadata": {},
     "output_type": "execute_result"
    }
   ],
   "source": [
    "df.head()"
   ]
  },
  {
   "cell_type": "code",
   "execution_count": 3,
   "metadata": {
    "collapsed": false
   },
   "outputs": [
    {
     "data": {
      "text/html": [
       "<div>\n",
       "<table border=\"1\" class=\"dataframe\">\n",
       "  <thead>\n",
       "    <tr style=\"text-align: right;\">\n",
       "      <th></th>\n",
       "      <th>distance</th>\n",
       "      <th>distancePreviousStop</th>\n",
       "      <th>latitude</th>\n",
       "      <th>line</th>\n",
       "      <th>longitude</th>\n",
       "      <th>node</th>\n",
       "      <th>secDetail</th>\n",
       "    </tr>\n",
       "  </thead>\n",
       "  <tbody>\n",
       "    <tr>\n",
       "      <th>count</th>\n",
       "      <td>5361.000000</td>\n",
       "      <td>5361.000000</td>\n",
       "      <td>5361.000000</td>\n",
       "      <td>5361.000000</td>\n",
       "      <td>5361.000000</td>\n",
       "      <td>5361.000000</td>\n",
       "      <td>5361.000000</td>\n",
       "    </tr>\n",
       "    <tr>\n",
       "      <th>mean</th>\n",
       "      <td>4435.009700</td>\n",
       "      <td>334.297892</td>\n",
       "      <td>40.421358</td>\n",
       "      <td>148.839396</td>\n",
       "      <td>-3.677326</td>\n",
       "      <td>2089.285395</td>\n",
       "      <td>14.928185</td>\n",
       "    </tr>\n",
       "    <tr>\n",
       "      <th>std</th>\n",
       "      <td>3130.274799</td>\n",
       "      <td>306.451957</td>\n",
       "      <td>0.035228</td>\n",
       "      <td>165.816627</td>\n",
       "      <td>0.041566</td>\n",
       "      <td>1552.773070</td>\n",
       "      <td>4.999951</td>\n",
       "    </tr>\n",
       "    <tr>\n",
       "      <th>min</th>\n",
       "      <td>0.000000</td>\n",
       "      <td>0.000000</td>\n",
       "      <td>40.341219</td>\n",
       "      <td>4.000000</td>\n",
       "      <td>-3.797938</td>\n",
       "      <td>23.000000</td>\n",
       "      <td>10.000000</td>\n",
       "    </tr>\n",
       "    <tr>\n",
       "      <th>25%</th>\n",
       "      <td>1852.000000</td>\n",
       "      <td>218.000000</td>\n",
       "      <td>40.393664</td>\n",
       "      <td>43.000000</td>\n",
       "      <td>-3.703842</td>\n",
       "      <td>861.000000</td>\n",
       "      <td>10.000000</td>\n",
       "    </tr>\n",
       "    <tr>\n",
       "      <th>50%</th>\n",
       "      <td>4068.000000</td>\n",
       "      <td>289.000000</td>\n",
       "      <td>40.419602</td>\n",
       "      <td>105.000000</td>\n",
       "      <td>-3.680877</td>\n",
       "      <td>1788.000000</td>\n",
       "      <td>10.000000</td>\n",
       "    </tr>\n",
       "    <tr>\n",
       "      <th>75%</th>\n",
       "      <td>6533.000000</td>\n",
       "      <td>376.000000</td>\n",
       "      <td>40.449332</td>\n",
       "      <td>143.000000</td>\n",
       "      <td>-3.648886</td>\n",
       "      <td>3016.000000</td>\n",
       "      <td>20.000000</td>\n",
       "    </tr>\n",
       "    <tr>\n",
       "      <th>max</th>\n",
       "      <td>16263.000000</td>\n",
       "      <td>5929.000000</td>\n",
       "      <td>40.506706</td>\n",
       "      <td>717.000000</td>\n",
       "      <td>-3.569393</td>\n",
       "      <td>5518.000000</td>\n",
       "      <td>20.000000</td>\n",
       "    </tr>\n",
       "  </tbody>\n",
       "</table>\n",
       "</div>"
      ],
      "text/plain": [
       "           distance  distancePreviousStop     latitude         line  \\\n",
       "count   5361.000000           5361.000000  5361.000000  5361.000000   \n",
       "mean    4435.009700            334.297892    40.421358   148.839396   \n",
       "std     3130.274799            306.451957     0.035228   165.816627   \n",
       "min        0.000000              0.000000    40.341219     4.000000   \n",
       "25%     1852.000000            218.000000    40.393664    43.000000   \n",
       "50%     4068.000000            289.000000    40.419602   105.000000   \n",
       "75%     6533.000000            376.000000    40.449332   143.000000   \n",
       "max    16263.000000           5929.000000    40.506706   717.000000   \n",
       "\n",
       "         longitude         node    secDetail  \n",
       "count  5361.000000  5361.000000  5361.000000  \n",
       "mean     -3.677326  2089.285395    14.928185  \n",
       "std       0.041566  1552.773070     4.999951  \n",
       "min      -3.797938    23.000000    10.000000  \n",
       "25%      -3.703842   861.000000    10.000000  \n",
       "50%      -3.680877  1788.000000    10.000000  \n",
       "75%      -3.648886  3016.000000    20.000000  \n",
       "max      -3.569393  5518.000000    20.000000  "
      ]
     },
     "execution_count": 3,
     "metadata": {},
     "output_type": "execute_result"
    }
   ],
   "source": [
    "df.describe()"
   ]
  },
  {
   "cell_type": "code",
   "execution_count": 4,
   "metadata": {
    "collapsed": false
   },
   "outputs": [],
   "source": [
    "%matplotlib inline"
   ]
  },
  {
   "cell_type": "code",
   "execution_count": 5,
   "metadata": {
    "collapsed": false
   },
   "outputs": [
    {
     "data": {
      "image/png": "[encoded data removed]",
      "text/plain": [
       "<matplotlib.figure.Figure at 0x3a302d0>"
      ]
     },
     "metadata": {},
     "output_type": "display_data"
    }
   ],
   "source": [
    "pandas.DataFrame.hist(df, bins=50, layout=(5,2), figsize=(17,17));"
   ]
  },
  {
   "cell_type": "code",
   "execution_count": 6,
   "metadata": {
    "collapsed": false
   },
   "outputs": [
    {
     "data": {
      "text/plain": [
       "111"
      ]
     },
     "execution_count": 6,
     "metadata": {},
     "output_type": "execute_result"
    }
   ],
   "source": [
    "len(df[\"line\"].unique())"
   ]
  },
  {
   "cell_type": "code",
   "execution_count": 7,
   "metadata": {
    "collapsed": false
   },
   "outputs": [
    {
     "data": {
      "image/png": "[encoded data removed]",
      "text/plain": [
       "<matplotlib.figure.Figure at 0x428df50>"
      ]
     },
     "metadata": {},
     "output_type": "display_data"
    }
   ],
   "source": [
    "df[df[\"line\"]<100].boxplot(column=\"distancePreviousStop\", by=\"line\", figsize=(17,6));"
   ]
  },
  {
   "cell_type": "code",
   "execution_count": 8,
   "metadata": {
    "collapsed": false
   },
   "outputs": [
    {
     "data": {
      "image/png": "[encoded data removed]",
      "text/plain": [
       "<matplotlib.figure.Figure at 0x52eae10>"
      ]
     },
     "metadata": {},
     "output_type": "display_data"
    }
   ],
   "source": [
    "df[df[\"line\"]>100].boxplot(column=\"distancePreviousStop\", by=\"line\", figsize=(17,6), rot=90);"
   ]
  },
  {
   "cell_type": "code",
   "execution_count": 9,
   "metadata": {
    "collapsed": false
   },
   "outputs": [
    {
     "data": {
      "text/html": [
       "<div>\n",
       "<table border=\"1\" class=\"dataframe\">\n",
       "  <thead>\n",
       "    <tr style=\"text-align: right;\">\n",
       "      <th></th>\n",
       "      <th>distance</th>\n",
       "      <th>distancePreviousStop</th>\n",
       "      <th>latitude</th>\n",
       "      <th>line</th>\n",
       "      <th>longitude</th>\n",
       "      <th>name</th>\n",
       "      <th>node</th>\n",
       "      <th>orderDetail</th>\n",
       "      <th>secDetail</th>\n",
       "    </tr>\n",
       "  </thead>\n",
       "  <tbody>\n",
       "    <tr>\n",
       "      <th>657</th>\n",
       "      <td>0</td>\n",
       "      <td>0</td>\n",
       "      <td>40.417942</td>\n",
       "      <td>25</td>\n",
       "      <td>-3.709552</td>\n",
       "      <td>PZA.ISABEL II</td>\n",
       "      <td>595</td>\n",
       "      <td>1</td>\n",
       "      <td>10</td>\n",
       "    </tr>\n",
       "    <tr>\n",
       "      <th>658</th>\n",
       "      <td>0</td>\n",
       "      <td>0</td>\n",
       "      <td>40.421427</td>\n",
       "      <td>25</td>\n",
       "      <td>-3.714280</td>\n",
       "      <td>CTA.SAN VICENTE-CADARSO</td>\n",
       "      <td>599</td>\n",
       "      <td>1</td>\n",
       "      <td>10</td>\n",
       "    </tr>\n",
       "    <tr>\n",
       "      <th>659</th>\n",
       "      <td>0</td>\n",
       "      <td>0</td>\n",
       "      <td>40.420459</td>\n",
       "      <td>25</td>\n",
       "      <td>-3.716344</td>\n",
       "      <td>CTA.SAN VICENTE-ARRIAZA</td>\n",
       "      <td>601</td>\n",
       "      <td>1</td>\n",
       "      <td>10</td>\n",
       "    </tr>\n",
       "    <tr>\n",
       "      <th>660</th>\n",
       "      <td>0</td>\n",
       "      <td>0</td>\n",
       "      <td>40.420444</td>\n",
       "      <td>25</td>\n",
       "      <td>-3.718749</td>\n",
       "      <td>CTA.SAN VICENTE-PRINCIPE PIO</td>\n",
       "      <td>603</td>\n",
       "      <td>1</td>\n",
       "      <td>10</td>\n",
       "    </tr>\n",
       "    <tr>\n",
       "      <th>661</th>\n",
       "      <td>0</td>\n",
       "      <td>0</td>\n",
       "      <td>40.419335</td>\n",
       "      <td>25</td>\n",
       "      <td>-3.720363</td>\n",
       "      <td>VIRGEN DEL PUERTO-GTA.SAN VICENTE</td>\n",
       "      <td>605</td>\n",
       "      <td>1</td>\n",
       "      <td>10</td>\n",
       "    </tr>\n",
       "  </tbody>\n",
       "</table>\n",
       "</div>"
      ],
      "text/plain": [
       "     distance  distancePreviousStop   latitude  line  longitude  \\\n",
       "657         0                     0  40.417942    25  -3.709552   \n",
       "658         0                     0  40.421427    25  -3.714280   \n",
       "659         0                     0  40.420459    25  -3.716344   \n",
       "660         0                     0  40.420444    25  -3.718749   \n",
       "661         0                     0  40.419335    25  -3.720363   \n",
       "\n",
       "                                  name  node orderDetail  secDetail  \n",
       "657                      PZA.ISABEL II   595           1         10  \n",
       "658            CTA.SAN VICENTE-CADARSO   599           1         10  \n",
       "659            CTA.SAN VICENTE-ARRIAZA   601           1         10  \n",
       "660       CTA.SAN VICENTE-PRINCIPE PIO   603           1         10  \n",
       "661  VIRGEN DEL PUERTO-GTA.SAN VICENTE   605           1         10  "
      ]
     },
     "execution_count": 9,
     "metadata": {},
     "output_type": "execute_result"
    }
   ],
   "source": [
    "df[df.line == 25].head()"
   ]
  },
  {
   "cell_type": "code",
   "execution_count": 10,
   "metadata": {
    "collapsed": false
   },
   "outputs": [
    {
     "data": {
      "image/png": "[encoded data removed]",
      "text/plain": [
       "<matplotlib.figure.Figure at 0x2b84650>"
      ]
     },
     "metadata": {},
     "output_type": "display_data"
    }
   ],
   "source": [
    "df[\"distance\"].groupby(df[\"line\"]).max().hist(bins=50);"
   ]
  },
  {
   "cell_type": "code",
   "execution_count": 11,
   "metadata": {
    "collapsed": true
   },
   "outputs": [],
   "source": [
    "FILENAME = 'data/EMTListLines.json'\n",
    "df2 = pandas.DataFrame(json.load(open(FILENAME))['resultValues'])"
   ]
  },
  {
   "cell_type": "code",
   "execution_count": 12,
   "metadata": {
    "collapsed": false
   },
   "outputs": [
    {
     "data": {
      "text/html": [
       "<div>\n",
       "<table border=\"1\" class=\"dataframe\">\n",
       "  <thead>\n",
       "    <tr style=\"text-align: right;\">\n",
       "      <th></th>\n",
       "      <th>dateEnd</th>\n",
       "      <th>dateFirst</th>\n",
       "      <th>groupNumber</th>\n",
       "      <th>label</th>\n",
       "      <th>line</th>\n",
       "      <th>nameA</th>\n",
       "      <th>nameB</th>\n",
       "    </tr>\n",
       "  </thead>\n",
       "  <tbody>\n",
       "    <tr>\n",
       "      <th>0</th>\n",
       "      <td>31/12/2999</td>\n",
       "      <td>21/11/2014</td>\n",
       "      <td>110</td>\n",
       "      <td>1</td>\n",
       "      <td>001</td>\n",
       "      <td>PLAZA DE CRISTO REY</td>\n",
       "      <td>PROSPERIDAD</td>\n",
       "    </tr>\n",
       "    <tr>\n",
       "      <th>1</th>\n",
       "      <td>31/12/2999</td>\n",
       "      <td>14/11/2014</td>\n",
       "      <td>110</td>\n",
       "      <td>2</td>\n",
       "      <td>002</td>\n",
       "      <td>PLAZA DE MANUEL BECERRA</td>\n",
       "      <td>AVENIDA DE REINA VICTORIA</td>\n",
       "    </tr>\n",
       "    <tr>\n",
       "      <th>2</th>\n",
       "      <td>31/12/2999</td>\n",
       "      <td>12/03/2015</td>\n",
       "      <td>110</td>\n",
       "      <td>3</td>\n",
       "      <td>003</td>\n",
       "      <td>PUERTA DE TOLEDO</td>\n",
       "      <td>PLAZA DE SAN AMARO</td>\n",
       "    </tr>\n",
       "    <tr>\n",
       "      <th>3</th>\n",
       "      <td>31/12/2999</td>\n",
       "      <td>30/01/2014</td>\n",
       "      <td>110</td>\n",
       "      <td>4</td>\n",
       "      <td>004</td>\n",
       "      <td>PLAZA DE CIUDAD LINEAL</td>\n",
       "      <td>PUERTA DE ARGANDA</td>\n",
       "    </tr>\n",
       "    <tr>\n",
       "      <th>4</th>\n",
       "      <td>31/12/2050</td>\n",
       "      <td>26/11/2014</td>\n",
       "      <td>110</td>\n",
       "      <td>5</td>\n",
       "      <td>005</td>\n",
       "      <td>PUERTA DEL SOL/SEVILLA</td>\n",
       "      <td>ESTACION DE CHAMARTIN</td>\n",
       "    </tr>\n",
       "  </tbody>\n",
       "</table>\n",
       "</div>"
      ],
      "text/plain": [
       "                          dateEnd                       dateFirst groupNumber  \\\n",
       "0  31/12/2999                      21/11/2014                             110   \n",
       "1  31/12/2999                      14/11/2014                             110   \n",
       "2  31/12/2999                      12/03/2015                             110   \n",
       "3  31/12/2999                      30/01/2014                             110   \n",
       "4  31/12/2050                      26/11/2014                             110   \n",
       "\n",
       "  label line                    nameA                      nameB  \n",
       "0     1  001      PLAZA DE CRISTO REY                PROSPERIDAD  \n",
       "1     2  002  PLAZA DE MANUEL BECERRA  AVENIDA DE REINA VICTORIA  \n",
       "2     3  003         PUERTA DE TOLEDO         PLAZA DE SAN AMARO  \n",
       "3     4  004   PLAZA DE CIUDAD LINEAL          PUERTA DE ARGANDA  \n",
       "4     5  005   PUERTA DEL SOL/SEVILLA      ESTACION DE CHAMARTIN  "
      ]
     },
     "execution_count": 12,
     "metadata": {},
     "output_type": "execute_result"
    }
   ],
   "source": [
    "df2.head()"
   ]
  },
  {
   "cell_type": "code",
   "execution_count": 13,
   "metadata": {
    "collapsed": false
   },
   "outputs": [
    {
     "name": "stdout",
     "output_type": "stream",
     "text": [
      "206\n"
     ]
    },
    {
     "data": {
      "text/plain": [
       "206"
      ]
     },
     "execution_count": 13,
     "metadata": {},
     "output_type": "execute_result"
    }
   ],
   "source": [
    "print len(df2)\n",
    "len(df2[\"line\"].unique())"
   ]
  },
  {
   "cell_type": "code",
   "execution_count": 14,
   "metadata": {
    "collapsed": false
   },
   "outputs": [
    {
     "data": {
      "text/html": [
       "<div>\n",
       "<table border=\"1\" class=\"dataframe\">\n",
       "  <thead>\n",
       "    <tr style=\"text-align: right;\">\n",
       "      <th></th>\n",
       "      <th>distance</th>\n",
       "      <th>distancePreviousStop</th>\n",
       "      <th>latitude</th>\n",
       "      <th>line</th>\n",
       "      <th>longitude</th>\n",
       "      <th>name</th>\n",
       "      <th>node</th>\n",
       "      <th>orderDetail</th>\n",
       "      <th>secDetail</th>\n",
       "      <th>dateEnd</th>\n",
       "      <th>dateFirst</th>\n",
       "      <th>groupNumber</th>\n",
       "      <th>label</th>\n",
       "      <th>nameA</th>\n",
       "      <th>nameB</th>\n",
       "    </tr>\n",
       "  </thead>\n",
       "  <tbody>\n",
       "  </tbody>\n",
       "</table>\n",
       "</div>"
      ],
      "text/plain": [
       "Empty DataFrame\n",
       "Columns: [distance, distancePreviousStop, latitude, line, longitude, name, node, orderDetail, secDetail, dateEnd, dateFirst, groupNumber, label, nameA, nameB]\n",
       "Index: []"
      ]
     },
     "execution_count": 14,
     "metadata": {},
     "output_type": "execute_result"
    }
   ],
   "source": [
    "df3 = df.merge(df2, on=\"line\")\n",
    "df3.head()"
   ]
  },
  {
   "cell_type": "code",
   "execution_count": 15,
   "metadata": {
    "collapsed": false
   },
   "outputs": [
    {
     "data": {
      "text/html": [
       "<div>\n",
       "<table border=\"1\" class=\"dataframe\">\n",
       "  <thead>\n",
       "    <tr style=\"text-align: right;\">\n",
       "      <th></th>\n",
       "      <th>dateEnd</th>\n",
       "      <th>dateFirst</th>\n",
       "      <th>groupNumber</th>\n",
       "      <th>label</th>\n",
       "      <th>line</th>\n",
       "      <th>nameA</th>\n",
       "      <th>nameB</th>\n",
       "    </tr>\n",
       "  </thead>\n",
       "  <tbody>\n",
       "    <tr>\n",
       "      <th>0</th>\n",
       "      <td>31/12/2999</td>\n",
       "      <td>21/11/2014</td>\n",
       "      <td>110</td>\n",
       "      <td>1</td>\n",
       "      <td>1</td>\n",
       "      <td>PLAZA DE CRISTO REY</td>\n",
       "      <td>PROSPERIDAD</td>\n",
       "    </tr>\n",
       "    <tr>\n",
       "      <th>1</th>\n",
       "      <td>31/12/2999</td>\n",
       "      <td>14/11/2014</td>\n",
       "      <td>110</td>\n",
       "      <td>2</td>\n",
       "      <td>2</td>\n",
       "      <td>PLAZA DE MANUEL BECERRA</td>\n",
       "      <td>AVENIDA DE REINA VICTORIA</td>\n",
       "    </tr>\n",
       "    <tr>\n",
       "      <th>2</th>\n",
       "      <td>31/12/2999</td>\n",
       "      <td>12/03/2015</td>\n",
       "      <td>110</td>\n",
       "      <td>3</td>\n",
       "      <td>3</td>\n",
       "      <td>PUERTA DE TOLEDO</td>\n",
       "      <td>PLAZA DE SAN AMARO</td>\n",
       "    </tr>\n",
       "    <tr>\n",
       "      <th>3</th>\n",
       "      <td>31/12/2999</td>\n",
       "      <td>30/01/2014</td>\n",
       "      <td>110</td>\n",
       "      <td>4</td>\n",
       "      <td>4</td>\n",
       "      <td>PLAZA DE CIUDAD LINEAL</td>\n",
       "      <td>PUERTA DE ARGANDA</td>\n",
       "    </tr>\n",
       "    <tr>\n",
       "      <th>4</th>\n",
       "      <td>31/12/2050</td>\n",
       "      <td>26/11/2014</td>\n",
       "      <td>110</td>\n",
       "      <td>5</td>\n",
       "      <td>5</td>\n",
       "      <td>PUERTA DEL SOL/SEVILLA</td>\n",
       "      <td>ESTACION DE CHAMARTIN</td>\n",
       "    </tr>\n",
       "  </tbody>\n",
       "</table>\n",
       "</div>"
      ],
      "text/plain": [
       "                          dateEnd                       dateFirst groupNumber  \\\n",
       "0  31/12/2999                      21/11/2014                             110   \n",
       "1  31/12/2999                      14/11/2014                             110   \n",
       "2  31/12/2999                      12/03/2015                             110   \n",
       "3  31/12/2999                      30/01/2014                             110   \n",
       "4  31/12/2050                      26/11/2014                             110   \n",
       "\n",
       "  label  line                    nameA                      nameB  \n",
       "0     1     1      PLAZA DE CRISTO REY                PROSPERIDAD  \n",
       "1     2     2  PLAZA DE MANUEL BECERRA  AVENIDA DE REINA VICTORIA  \n",
       "2     3     3         PUERTA DE TOLEDO         PLAZA DE SAN AMARO  \n",
       "3     4     4   PLAZA DE CIUDAD LINEAL          PUERTA DE ARGANDA  \n",
       "4     5     5   PUERTA DEL SOL/SEVILLA      ESTACION DE CHAMARTIN  "
      ]
     },
     "execution_count": 15,
     "metadata": {},
     "output_type": "execute_result"
    }
   ],
   "source": [
    "df2[\"line\"] = df2[\"line\"].astype(int)\n",
    "df2.head()"
   ]
  },
  {
   "cell_type": "code",
   "execution_count": 16,
   "metadata": {
    "collapsed": false
   },
   "outputs": [
    {
     "data": {
      "text/html": [
       "<div>\n",
       "<table border=\"1\" class=\"dataframe\">\n",
       "  <thead>\n",
       "    <tr style=\"text-align: right;\">\n",
       "      <th></th>\n",
       "      <th>distance</th>\n",
       "      <th>distancePreviousStop</th>\n",
       "      <th>latitude</th>\n",
       "      <th>line</th>\n",
       "      <th>longitude</th>\n",
       "      <th>name</th>\n",
       "      <th>node</th>\n",
       "      <th>orderDetail</th>\n",
       "      <th>secDetail</th>\n",
       "      <th>dateEnd</th>\n",
       "      <th>dateFirst</th>\n",
       "      <th>groupNumber</th>\n",
       "      <th>label</th>\n",
       "      <th>nameA</th>\n",
       "      <th>nameB</th>\n",
       "    </tr>\n",
       "  </thead>\n",
       "  <tbody>\n",
       "    <tr>\n",
       "      <th>0</th>\n",
       "      <td>0</td>\n",
       "      <td>0</td>\n",
       "      <td>40.438157</td>\n",
       "      <td>4</td>\n",
       "      <td>-3.638731</td>\n",
       "      <td>INTERCAMBIADOR CIUDAD LINEAL</td>\n",
       "      <td>1199</td>\n",
       "      <td>1</td>\n",
       "      <td>10</td>\n",
       "      <td>31/12/2999</td>\n",
       "      <td>30/01/2014</td>\n",
       "      <td>110</td>\n",
       "      <td>4</td>\n",
       "      <td>PLAZA DE CIUDAD LINEAL</td>\n",
       "      <td>PUERTA DE ARGANDA</td>\n",
       "    </tr>\n",
       "    <tr>\n",
       "      <th>1</th>\n",
       "      <td>458</td>\n",
       "      <td>458</td>\n",
       "      <td>40.434865</td>\n",
       "      <td>4</td>\n",
       "      <td>-3.636101</td>\n",
       "      <td>HNOS.GARCIA NOBLEJAS-VITAL AZA</td>\n",
       "      <td>240</td>\n",
       "      <td>1</td>\n",
       "      <td>10</td>\n",
       "      <td>31/12/2999</td>\n",
       "      <td>30/01/2014</td>\n",
       "      <td>110</td>\n",
       "      <td>4</td>\n",
       "      <td>PLAZA DE CIUDAD LINEAL</td>\n",
       "      <td>PUERTA DE ARGANDA</td>\n",
       "    </tr>\n",
       "    <tr>\n",
       "      <th>2</th>\n",
       "      <td>752</td>\n",
       "      <td>294</td>\n",
       "      <td>40.432523</td>\n",
       "      <td>4</td>\n",
       "      <td>-3.634476</td>\n",
       "      <td>HNOS.GARCIA NOBLEJAS-ASCAO</td>\n",
       "      <td>242</td>\n",
       "      <td>1</td>\n",
       "      <td>10</td>\n",
       "      <td>31/12/2999</td>\n",
       "      <td>30/01/2014</td>\n",
       "      <td>110</td>\n",
       "      <td>4</td>\n",
       "      <td>PLAZA DE CIUDAD LINEAL</td>\n",
       "      <td>PUERTA DE ARGANDA</td>\n",
       "    </tr>\n",
       "    <tr>\n",
       "      <th>3</th>\n",
       "      <td>1153</td>\n",
       "      <td>401</td>\n",
       "      <td>40.429391</td>\n",
       "      <td>4</td>\n",
       "      <td>-3.632136</td>\n",
       "      <td>HNOS.GARCIA NOBLEJAS-LUIS CAMPOS</td>\n",
       "      <td>244</td>\n",
       "      <td>1</td>\n",
       "      <td>10</td>\n",
       "      <td>31/12/2999</td>\n",
       "      <td>30/01/2014</td>\n",
       "      <td>110</td>\n",
       "      <td>4</td>\n",
       "      <td>PLAZA DE CIUDAD LINEAL</td>\n",
       "      <td>PUERTA DE ARGANDA</td>\n",
       "    </tr>\n",
       "    <tr>\n",
       "      <th>4</th>\n",
       "      <td>1371</td>\n",
       "      <td>218</td>\n",
       "      <td>40.427677</td>\n",
       "      <td>4</td>\n",
       "      <td>-3.630893</td>\n",
       "      <td>HNOS.GARCIA NOBLEJAS-CASTILLO DE AREVALO</td>\n",
       "      <td>246</td>\n",
       "      <td>1</td>\n",
       "      <td>10</td>\n",
       "      <td>31/12/2999</td>\n",
       "      <td>30/01/2014</td>\n",
       "      <td>110</td>\n",
       "      <td>4</td>\n",
       "      <td>PLAZA DE CIUDAD LINEAL</td>\n",
       "      <td>PUERTA DE ARGANDA</td>\n",
       "    </tr>\n",
       "  </tbody>\n",
       "</table>\n",
       "</div>"
      ],
      "text/plain": [
       "   distance  distancePreviousStop   latitude  line  longitude  \\\n",
       "0         0                     0  40.438157     4  -3.638731   \n",
       "1       458                   458  40.434865     4  -3.636101   \n",
       "2       752                   294  40.432523     4  -3.634476   \n",
       "3      1153                   401  40.429391     4  -3.632136   \n",
       "4      1371                   218  40.427677     4  -3.630893   \n",
       "\n",
       "                                       name  node orderDetail  secDetail  \\\n",
       "0              INTERCAMBIADOR CIUDAD LINEAL  1199           1         10   \n",
       "1            HNOS.GARCIA NOBLEJAS-VITAL AZA   240           1         10   \n",
       "2                HNOS.GARCIA NOBLEJAS-ASCAO   242           1         10   \n",
       "3          HNOS.GARCIA NOBLEJAS-LUIS CAMPOS   244           1         10   \n",
       "4  HNOS.GARCIA NOBLEJAS-CASTILLO DE AREVALO   246           1         10   \n",
       "\n",
       "                          dateEnd                       dateFirst groupNumber  \\\n",
       "0  31/12/2999                      30/01/2014                             110   \n",
       "1  31/12/2999                      30/01/2014                             110   \n",
       "2  31/12/2999                      30/01/2014                             110   \n",
       "3  31/12/2999                      30/01/2014                             110   \n",
       "4  31/12/2999                      30/01/2014                             110   \n",
       "\n",
       "  label                   nameA              nameB  \n",
       "0     4  PLAZA DE CIUDAD LINEAL  PUERTA DE ARGANDA  \n",
       "1     4  PLAZA DE CIUDAD LINEAL  PUERTA DE ARGANDA  \n",
       "2     4  PLAZA DE CIUDAD LINEAL  PUERTA DE ARGANDA  \n",
       "3     4  PLAZA DE CIUDAD LINEAL  PUERTA DE ARGANDA  \n",
       "4     4  PLAZA DE CIUDAD LINEAL  PUERTA DE ARGANDA  "
      ]
     },
     "execution_count": 16,
     "metadata": {},
     "output_type": "execute_result"
    }
   ],
   "source": [
    "df3 = df.merge(df2, on=\"line\")\n",
    "df3.head()"
   ]
  },
  {
   "cell_type": "code",
   "execution_count": 17,
   "metadata": {
    "collapsed": false
   },
   "outputs": [
    {
     "data": {
      "text/plain": [
       "5256"
      ]
     },
     "execution_count": 17,
     "metadata": {},
     "output_type": "execute_result"
    }
   ],
   "source": [
    "len(df3)"
   ]
  },
  {
   "cell_type": "code",
   "execution_count": 18,
   "metadata": {
    "collapsed": false
   },
   "outputs": [
    {
     "data": {
      "text/plain": [
       "5361"
      ]
     },
     "execution_count": 18,
     "metadata": {},
     "output_type": "execute_result"
    }
   ],
   "source": [
    "len(df)"
   ]
  },
  {
   "cell_type": "code",
   "execution_count": 19,
   "metadata": {
    "collapsed": false
   },
   "outputs": [
    {
     "data": {
      "text/html": [
       "<div>\n",
       "<table border=\"1\" class=\"dataframe\">\n",
       "  <thead>\n",
       "    <tr style=\"text-align: right;\">\n",
       "      <th></th>\n",
       "      <th>distance</th>\n",
       "      <th>distancePreviousStop</th>\n",
       "      <th>latitude</th>\n",
       "      <th>line</th>\n",
       "      <th>longitude</th>\n",
       "      <th>name</th>\n",
       "      <th>node</th>\n",
       "      <th>orderDetail</th>\n",
       "      <th>secDetail</th>\n",
       "      <th>dateEnd</th>\n",
       "      <th>dateFirst</th>\n",
       "      <th>groupNumber</th>\n",
       "      <th>label</th>\n",
       "      <th>nameA</th>\n",
       "      <th>nameB</th>\n",
       "    </tr>\n",
       "  </thead>\n",
       "  <tbody>\n",
       "    <tr>\n",
       "      <th>4535</th>\n",
       "      <td>0</td>\n",
       "      <td>0</td>\n",
       "      <td>40.419127</td>\n",
       "      <td>502</td>\n",
       "      <td>-3.692496</td>\n",
       "      <td>PZA.DE CIBELES</td>\n",
       "      <td>75</td>\n",
       "      <td>1</td>\n",
       "      <td>10</td>\n",
       "      <td>31/12/2999</td>\n",
       "      <td>14/10/2014</td>\n",
       "      <td>320</td>\n",
       "      <td>N2</td>\n",
       "      <td>PLAZA DE CIBELES</td>\n",
       "      <td>HORTALEZA</td>\n",
       "    </tr>\n",
       "    <tr>\n",
       "      <th>4536</th>\n",
       "      <td>399</td>\n",
       "      <td>399</td>\n",
       "      <td>40.419602</td>\n",
       "      <td>502</td>\n",
       "      <td>-3.688268</td>\n",
       "      <td>PUERTA DE ALCALA</td>\n",
       "      <td>162</td>\n",
       "      <td>1</td>\n",
       "      <td>10</td>\n",
       "      <td>31/12/2999</td>\n",
       "      <td>14/10/2014</td>\n",
       "      <td>320</td>\n",
       "      <td>N2</td>\n",
       "      <td>PLAZA DE CIBELES</td>\n",
       "      <td>HORTALEZA</td>\n",
       "    </tr>\n",
       "    <tr>\n",
       "      <th>4537</th>\n",
       "      <td>1076</td>\n",
       "      <td>677</td>\n",
       "      <td>40.422367</td>\n",
       "      <td>502</td>\n",
       "      <td>-3.680842</td>\n",
       "      <td>ALCALA-AV.MENENDEZ PELAYO</td>\n",
       "      <td>751</td>\n",
       "      <td>1</td>\n",
       "      <td>10</td>\n",
       "      <td>31/12/2999</td>\n",
       "      <td>14/10/2014</td>\n",
       "      <td>320</td>\n",
       "      <td>N2</td>\n",
       "      <td>PLAZA DE CIBELES</td>\n",
       "      <td>HORTALEZA</td>\n",
       "    </tr>\n",
       "    <tr>\n",
       "      <th>4538</th>\n",
       "      <td>1467</td>\n",
       "      <td>391</td>\n",
       "      <td>40.425372</td>\n",
       "      <td>502</td>\n",
       "      <td>-3.680017</td>\n",
       "      <td>PRINCIPE DE VERGARA-GOYA</td>\n",
       "      <td>2227</td>\n",
       "      <td>1</td>\n",
       "      <td>10</td>\n",
       "      <td>31/12/2999</td>\n",
       "      <td>14/10/2014</td>\n",
       "      <td>320</td>\n",
       "      <td>N2</td>\n",
       "      <td>PLAZA DE CIBELES</td>\n",
       "      <td>HORTALEZA</td>\n",
       "    </tr>\n",
       "    <tr>\n",
       "      <th>4539</th>\n",
       "      <td>1741</td>\n",
       "      <td>274</td>\n",
       "      <td>40.427833</td>\n",
       "      <td>502</td>\n",
       "      <td>-3.679748</td>\n",
       "      <td>PRINCIPE DE VERGARA-AYALA</td>\n",
       "      <td>2229</td>\n",
       "      <td>1</td>\n",
       "      <td>10</td>\n",
       "      <td>31/12/2999</td>\n",
       "      <td>14/10/2014</td>\n",
       "      <td>320</td>\n",
       "      <td>N2</td>\n",
       "      <td>PLAZA DE CIBELES</td>\n",
       "      <td>HORTALEZA</td>\n",
       "    </tr>\n",
       "  </tbody>\n",
       "</table>\n",
       "</div>"
      ],
      "text/plain": [
       "      distance  distancePreviousStop   latitude  line  longitude  \\\n",
       "4535         0                     0  40.419127   502  -3.692496   \n",
       "4536       399                   399  40.419602   502  -3.688268   \n",
       "4537      1076                   677  40.422367   502  -3.680842   \n",
       "4538      1467                   391  40.425372   502  -3.680017   \n",
       "4539      1741                   274  40.427833   502  -3.679748   \n",
       "\n",
       "                           name  node orderDetail  secDetail  \\\n",
       "4535             PZA.DE CIBELES    75           1         10   \n",
       "4536           PUERTA DE ALCALA   162           1         10   \n",
       "4537  ALCALA-AV.MENENDEZ PELAYO   751           1         10   \n",
       "4538   PRINCIPE DE VERGARA-GOYA  2227           1         10   \n",
       "4539  PRINCIPE DE VERGARA-AYALA  2229           1         10   \n",
       "\n",
       "                             dateEnd                       dateFirst  \\\n",
       "4535  31/12/2999                      14/10/2014                       \n",
       "4536  31/12/2999                      14/10/2014                       \n",
       "4537  31/12/2999                      14/10/2014                       \n",
       "4538  31/12/2999                      14/10/2014                       \n",
       "4539  31/12/2999                      14/10/2014                       \n",
       "\n",
       "     groupNumber label             nameA      nameB  \n",
       "4535         320    N2  PLAZA DE CIBELES  HORTALEZA  \n",
       "4536         320    N2  PLAZA DE CIBELES  HORTALEZA  \n",
       "4537         320    N2  PLAZA DE CIBELES  HORTALEZA  \n",
       "4538         320    N2  PLAZA DE CIBELES  HORTALEZA  \n",
       "4539         320    N2  PLAZA DE CIBELES  HORTALEZA  "
      ]
     },
     "execution_count": 19,
     "metadata": {},
     "output_type": "execute_result"
    }
   ],
   "source": [
    "df_n = df3[df3.label.str.contains(\"N\")]\n",
    "df_n.head()"
   ]
  },
  {
   "cell_type": "code",
   "execution_count": 20,
   "metadata": {
    "collapsed": false
   },
   "outputs": [
    {
     "data": {
      "text/plain": [
       "12"
      ]
     },
     "execution_count": 20,
     "metadata": {},
     "output_type": "execute_result"
    }
   ],
   "source": [
    "len(df_n.groupby(df_n[\"line\"]))"
   ]
  },
  {
   "cell_type": "code",
   "execution_count": 21,
   "metadata": {
    "collapsed": false
   },
   "outputs": [
    {
     "data": {
      "image/png": "[encoded data removed]",
      "text/plain": [
       "<matplotlib.figure.Figure at 0x5e716d0>"
      ]
     },
     "metadata": {},
     "output_type": "display_data"
    }
   ],
   "source": [
    "df3[\"distancePreviousStop\"][df3[\"label\"].str.contains(\"N\") == True].hist(bins=30);"
   ]
  },
  {
   "cell_type": "code",
   "execution_count": 22,
   "metadata": {
    "collapsed": false
   },
   "outputs": [
    {
     "data": {
      "image/png": "[encoded data removed]",
      "text/plain": [
       "<matplotlib.figure.Figure at 0x3a30510>"
      ]
     },
     "metadata": {},
     "output_type": "display_data"
    }
   ],
   "source": [
    "df3[\"distancePreviousStop\"][df3[\"label\"].str.contains(\"N\") == False].hist(bins=30);"
   ]
  },
  {
   "cell_type": "code",
   "execution_count": 23,
   "metadata": {
    "collapsed": false
   },
   "outputs": [
    {
     "data": {
      "text/plain": [
       "array([u'A', u'H', u'112', u'125', u'130', u'N20'], dtype=object)"
      ]
     },
     "execution_count": 23,
     "metadata": {},
     "output_type": "execute_result"
    }
   ],
   "source": [
    "df3[df3[\"distancePreviousStop\"] > 3000][\"label\"].unique()"
   ]
  },
  {
   "cell_type": "code",
   "execution_count": 24,
   "metadata": {
    "collapsed": false
   },
   "outputs": [
    {
     "data": {
      "image/png": "[encoded data removed]",
      "text/plain": [
       "<matplotlib.figure.Figure at 0x3c4c890>"
      ]
     },
     "metadata": {},
     "output_type": "display_data"
    }
   ],
   "source": [
    "df3[\"distancePreviousStop\"][df3[\"label\"].str.contains(\"[AHN]\") == False].hist(bins=30);"
   ]
  },
  {
   "cell_type": "code",
   "execution_count": 25,
   "metadata": {
    "collapsed": false
   },
   "outputs": [
    {
     "data": {
      "image/png": "[encoded data removed]",
      "text/plain": [
       "<matplotlib.figure.Figure at 0x3f82550>"
      ]
     },
     "metadata": {},
     "output_type": "display_data"
    }
   ],
   "source": [
    "df3[\"distancePreviousStop\"][df3[\"label\"].str.contains(\"[AHN]\")].hist(bins=30);"
   ]
  }
 ],
 "metadata": {
  "kernelspec": {
   "display_name": "Python 2",
   "language": "python",
   "name": "python2"
  },
  "language_info": {
   "codemirror_mode": {
    "name": "ipython",
    "version": 2
   },
   "file_extension": ".py",
   "mimetype": "text/x-python",
   "name": "python",
   "nbconvert_exporter": "python",
   "pygments_lexer": "ipython2",
   "version": "2.7.3"
  }
 },
 "nbformat": 4,
 "nbformat_minor": 0
}
