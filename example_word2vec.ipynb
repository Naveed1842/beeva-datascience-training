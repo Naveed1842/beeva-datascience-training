{
 "metadata": {
  "name": "",
  "signature": "sha256:bbe2df879b4373f23cb9d39112f4e68439ead974967a494b9dc4fc541d858720"
 },
 "nbformat": 3,
 "nbformat_minor": 0,
 "worksheets": [
  {
   "cells": [
    {
     "cell_type": "markdown",
     "metadata": {},
     "source": [
      "# Word2vec example"
     ]
    },
    {
     "cell_type": "markdown",
     "metadata": {},
     "source": [
      "### +Word2Vec by gensim\n",
      "Model2 (400K) trained with **GloVe** on *Wikipedia*"
     ]
    },
    {
     "cell_type": "code",
     "collapsed": false,
     "input": [
      "import warnings\n",
      "warnings.filterwarnings('ignore')\n",
      "from gensim import corpora, models\n",
      "filename = '/home/enrique/proyectos/deeplearning/word2vec/vectors.6B.100d_h.txt'\n",
      "model = models.Word2Vec.load_word2vec_format(filename, binary=False)\n",
      "print(\"Loaded! modelo wor2vec:\"+filename)"
     ],
     "language": "python",
     "metadata": {},
     "outputs": []
    },
    {
     "cell_type": "code",
     "collapsed": false,
     "input": [
      "model[\"car\"]"
     ],
     "language": "python",
     "metadata": {},
     "outputs": []
    },
    {
     "cell_type": "code",
     "collapsed": false,
     "input": [
      "model.most_similar(positive=['king', 'woman'], negative=['man'])[0]"
     ],
     "language": "python",
     "metadata": {},
     "outputs": []
    },
    {
     "cell_type": "code",
     "collapsed": false,
     "input": [
      "model.most_similar(positive=['paris', 'italy'], negative=['france'])[0]"
     ],
     "language": "python",
     "metadata": {},
     "outputs": []
    },
    {
     "cell_type": "code",
     "collapsed": false,
     "input": [
      "model.most_similar(positive=['car', 'pedal'], negative=['engine'])[0]"
     ],
     "language": "python",
     "metadata": {},
     "outputs": []
    }
   ],
   "metadata": {}
  }
 ]
}